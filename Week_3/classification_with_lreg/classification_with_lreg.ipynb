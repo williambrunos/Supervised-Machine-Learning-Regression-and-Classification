{
  "cells": [
    {
      "cell_type": "markdown",
      "metadata": {
        "id": "view-in-github",
        "colab_type": "text"
      },
      "source": [
        "<a href=\"https://colab.research.google.com/github/williambrunos/Supervised-Machine-Learning-Regression-and-Classification/blob/main/Week_3/classification_with_lreg/classification_with_lreg.ipynb\" target=\"_parent\"><img src=\"https://colab.research.google.com/assets/colab-badge.svg\" alt=\"Open In Colab\"/></a>"
      ]
    },
    {
      "cell_type": "markdown",
      "metadata": {
        "id": "ePF70hFFCiik"
      },
      "source": [
        "# Classification with Logistic Regression\n",
        "\n",
        "## Motivations\n",
        "\n",
        "Classification models tends to predict a target $y$ wich can assume only one value in a certain range of well defined values, not any number in a infinite range of numbers.\n",
        "\n",
        "On this notebook, class and category are going to be used to refer to the same thing.\n",
        "\n",
        "Linear regression isn't the best model to perform a classification:\n",
        "\n",
        "- It has predictions in a range of infinite numbers, not only in a certain and specific range of discrete values.\n",
        "- If this problem is solved using linear regression, a certain outlier can produce predictions that misclassifies the data, modifying a lot the **decision boundary** of the algorithm.\n",
        "\n",
        "## Logistic Regression"
      ]
    }
  ],
  "metadata": {
    "language_info": {
      "name": "python"
    },
    "orig_nbformat": 4,
    "colab": {
      "name": "classification_with_lreg.ipynb",
      "provenance": [],
      "include_colab_link": true
    }
  },
  "nbformat": 4,
  "nbformat_minor": 0
}