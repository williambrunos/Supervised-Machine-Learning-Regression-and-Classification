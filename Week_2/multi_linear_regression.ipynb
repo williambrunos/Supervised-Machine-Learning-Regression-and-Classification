{
  "cells": [
    {
      "cell_type": "markdown",
      "metadata": {
        "id": "view-in-github",
        "colab_type": "text"
      },
      "source": [
        "<a href=\"https://colab.research.google.com/github/williambrunos/Supervised-Machine-Learning-Regression-and-Classification/blob/main/Week_2/multi_linear_regression.ipynb\" target=\"_parent\"><img src=\"https://colab.research.google.com/assets/colab-badge.svg\" alt=\"Open In Colab\"/></a>"
      ]
    },
    {
      "cell_type": "markdown",
      "metadata": {
        "id": "okwbXsblZOLr"
      },
      "source": [
        "# Multi Linear Regression\n",
        "\n",
        "In this section, we'll take a look on how to implement linear regression with not only one feature, but various features! \n",
        "\n",
        "## Multiple Features\n",
        "\n",
        "Those features can be represented as $x_1, x_2,...,x_n ⇒ x_j = j^{th}$ feature, with n as the number of features.\n",
        "\n",
        "- $x_j = j^{th}$ feature;\n",
        "- $n = $ number of features;\n",
        "- $\\vec x^{(i)} = $ features of the $i^{th}$ trainning example;\n",
        "- $x_j^{(i)} = j^{th}$ feature on the $i^{th}$ trainning example; \n",
        "\n",
        "Previously:\n",
        "\n",
        "$$f_{w, b}(x) = wx + b$$\n",
        "\n",
        "where x was a single feature. But now, with multiple features, for instance n features, this function will change a bit:\n",
        "\n",
        "$$f_{\\vec w, b}(\\vec x) = \\sum_{i=1}^{n}(w_ix_i) + b$$\n",
        "\n",
        "Each $x_i$ is the $i^{th}$ feature on the data and $w_i$ it is the equivalent weight determined by the model for that feature. The paramter b continues being the bias of the model.\n",
        "\n",
        "We can rewrite the terms of the model using a little bit of mathematics:\n",
        "\n",
        "- $\\vec w = [w_1 w_2 w_3 ... w_n]$\n",
        "- b is a real number;\n",
        "\n",
        "Those above are the **parameters** of the model. At the same way, we can list all the features of the data as:\n",
        "\n",
        "- $\\vec x = [x_1 x_2 x_3 ... x_n]$\n",
        "\n",
        "The model function can now be rewrited as:\n",
        "\n",
        "$$f_{\\vec w, b} = \\vec w \\bullet \\vec x + b = \\sum_{i=1}^{n}(w_ix_i) + b$$\n",
        "\n",
        "The $\\bullet$ operator is the **dot product** upon vectors. Fitting the data with multiple features into a linear regression yields to a model called **multiple linear regression**."
      ]
    },
    {
      "cell_type": "markdown",
      "source": [
        "## Vectorization\n",
        "\n",
        "Vectorizing your code yields to a more efficient adn powerful code processing."
      ],
      "metadata": {
        "id": "zfvNtGjPejEY"
      }
    },
    {
      "cell_type": "code",
      "source": [
        "import numpy as np"
      ],
      "metadata": {
        "id": "_qIg-lsSeaEj"
      },
      "execution_count": 1,
      "outputs": []
    },
    {
      "cell_type": "code",
      "source": [
        "w = np.array([1, 2.5, -3.3], dtype=float)\n",
        "b = 4\n",
        "x = np.array([10, 20, 30])"
      ],
      "metadata": {
        "id": "O5qUYuF2fG5N"
      },
      "execution_count": 2,
      "outputs": []
    },
    {
      "cell_type": "markdown",
      "source": [
        "Calculating $f$ with vectorization:"
      ],
      "metadata": {
        "id": "I77ngUz8fbzA"
      }
    },
    {
      "cell_type": "code",
      "source": [
        "f = np.dot(w, x) + b\n",
        "print(f)"
      ],
      "metadata": {
        "colab": {
          "base_uri": "https://localhost:8080/"
        },
        "id": "gwv6W0C3fWJM",
        "outputId": "5c85ead0-9f0b-4fe3-c880-50ce2aab049b"
      },
      "execution_count": 4,
      "outputs": [
        {
          "output_type": "stream",
          "name": "stdout",
          "text": [
            "-35.0\n"
          ]
        }
      ]
    },
    {
      "cell_type": "markdown",
      "source": [
        "Or, we can use that in a more inefficient (but works) way than using numpy:"
      ],
      "metadata": {
        "id": "fnLMfiTSfphG"
      }
    },
    {
      "cell_type": "code",
      "source": [
        "n = len(x)\n",
        "f = 0\n",
        "for j in range(0, n):\n",
        "  f += x[j] * w[j]\n",
        "f += b\n",
        "print(f)"
      ],
      "metadata": {
        "colab": {
          "base_uri": "https://localhost:8080/"
        },
        "id": "ViW59XHXfW18",
        "outputId": "1e130f58-01c3-4e31-b509-d5524f15241f"
      },
      "execution_count": 6,
      "outputs": [
        {
          "output_type": "stream",
          "name": "stdout",
          "text": [
            "-35.0\n"
          ]
        }
      ]
    },
    {
      "cell_type": "markdown",
      "source": [
        "## Gradient Descent for Multiple Regression\n",
        "\n",
        "How can we write the gradient descent using vectors?\n",
        "\n",
        "- $\\vec w = [w_1 w_2 w_3 ... w_n]$\n",
        "- b is a number;\n",
        "- $f_{\\vec w, b}(\\vec x) = \\vec w \\bullet x + b$ the model function;\n",
        "- $J(\\vec w, b)$ is the cost function;\n",
        "\n",
        "Then, the gradient descent expressions will be:\n",
        "\n",
        "$$w_j = w_j - \\alpha \\frac{\\partial}{\\partial{w_j}}J(\\vec w, b)$$\n",
        "$$b_j = b_j - \\alpha \\frac{\\partial}{\\partial{b}}J(\\vec w, b)$$\n",
        "\n",
        "Expanding the derivative terms for $n ≥ 2$ (multi linear regression):\n",
        "\n",
        "$$w_n = w_n - \\alpha \\frac{1}{m} \\sum_{i=1}^{m}[(f_{\\vec w, b}(\\vec x^{(i)}) - y^{(i)})x_n^{(i)}]$$\n",
        "\n",
        "$$b = b - \\alpha \\frac{1}{m} \\sum_{i=1}^{m}(f_{\\vec w, b}(\\vec x^{(i)}) - y^{(i)})$$\n"
      ],
      "metadata": {
        "id": "H78mEg6Rlxo_"
      }
    },
    {
      "cell_type": "markdown",
      "source": [
        "### Benefits of vectorization\n",
        "\n",
        "- Shorter code;\n",
        "- More optimized operations;\n",
        "- Use of parallel hardware by numpy;\n",
        "- Scale to large datasets;"
      ],
      "metadata": {
        "id": "xBRV7WmLgbSf"
      }
    }
  ],
  "metadata": {
    "language_info": {
      "name": "python"
    },
    "orig_nbformat": 4,
    "colab": {
      "name": "multi_linear_regression.ipynb",
      "provenance": [],
      "include_colab_link": true
    },
    "kernelspec": {
      "name": "python3",
      "display_name": "Python 3"
    },
    "gpuClass": "standard"
  },
  "nbformat": 4,
  "nbformat_minor": 0
}