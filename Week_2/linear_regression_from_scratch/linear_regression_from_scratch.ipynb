{
  "cells": [
    {
      "cell_type": "markdown",
      "metadata": {
        "id": "view-in-github",
        "colab_type": "text"
      },
      "source": [
        "<a href=\"https://colab.research.google.com/github/williambrunos/Supervised-Machine-Learning-Regression-and-Classification/blob/main/Week_2/linear_regression_from_scratch/linear_regression_from_scratch.ipynb\" target=\"_parent\"><img src=\"https://colab.research.google.com/assets/colab-badge.svg\" alt=\"Open In Colab\"/></a>"
      ]
    },
    {
      "cell_type": "markdown",
      "metadata": {
        "id": "H_AwkGaxFre8"
      },
      "source": [
        "# Linear Regression from Scratch\n",
        "\n",
        "Using python, obviously.\n",
        "\n",
        "## Data\n",
        "\n",
        "Also obviously, we are going to use the house-price prediction dataset, found [here](https://github.com/kumudlakara/Medium-codes/blob/main/linear_regression/house_price_data.txt)"
      ]
    },
    {
      "cell_type": "code",
      "source": [
        "import pandas as pd\n",
        "import numpy as np\n",
        "import matplotlib.pyplot as plt"
      ],
      "metadata": {
        "id": "hfss1Qx_IHjW"
      },
      "execution_count": 5,
      "outputs": []
    },
    {
      "cell_type": "code",
      "source": [
        "def load_data(filename):\n",
        "  df = pd.read_csv(filename, sep=\",\", index_col=False)\n",
        "  df.columns = [\"housesize\", \"rooms\", \"price\"]\n",
        "  data = np.array(df, dtype=float)\n",
        "  plot_data(data[:,:2], data[:, -1])\n",
        "  normalize(data)\n",
        "  return data[:,:2], data[:, -1]"
      ],
      "metadata": {
        "id": "ITZ5KXxfH6pQ"
      },
      "execution_count": 2,
      "outputs": []
    },
    {
      "cell_type": "markdown",
      "source": [
        "## Normalize the Data\n",
        "\n",
        "The code above does not only load the data, but also plots it and normalizes it. For nomalization, we are going to use the z-score:"
      ],
      "metadata": {
        "id": "XbGAvnpgIVi2"
      }
    },
    {
      "cell_type": "code",
      "source": [
        "def normalize(data):\n",
        "  \"\"\"\n",
        "  This function receives a dataset as argument\n",
        "  and normalized all the data according to the\n",
        "  mean and standard deviation of each column.\n",
        "  \"\"\"\n",
        "  for i in range(0, data.shape[-1] - 1):\n",
        "    data[:, i] = ((data[:, i] - np.mean(data[:, i])) / np.std(data[:, i]))"
      ],
      "metadata": {
        "id": "1MKB6rmoH8dW"
      },
      "execution_count": 4,
      "outputs": []
    },
    {
      "cell_type": "markdown",
      "source": [
        "## Plot the data"
      ],
      "metadata": {
        "id": "R8TXW4q9J4BL"
      }
    },
    {
      "cell_type": "code",
      "source": [
        "def plot_data(x, y):\n",
        "\tplt.xlabel('house size')\n",
        "\tplt.ylabel('price')\n",
        "\tplt.plot(x[:,0], y, 'bo')\n",
        "\tplt.show()"
      ],
      "metadata": {
        "id": "Vi7sitkNJxiH"
      },
      "execution_count": 6,
      "outputs": []
    },
    {
      "cell_type": "markdown",
      "source": [
        "## Hypothesis\n",
        "\n",
        "Our dataset has only 2 features, wich means that the hypothesis will be:\n",
        "\n",
        "$$h_{Θ} = \\sum_{i=1}^{2}(\\theta_ix_i) + \\theta_0$$\n",
        "\n",
        "Defininf the hypothesis function using vectorization with numpy:"
      ],
      "metadata": {
        "id": "An9Oh8NBKLJ6"
      }
    },
    {
      "cell_type": "code",
      "source": [
        "def h(x,theta):\n",
        "\treturn np.matmul(x, theta)"
      ],
      "metadata": {
        "id": "qhJvAABeKDHh"
      },
      "execution_count": 7,
      "outputs": []
    },
    {
      "cell_type": "markdown",
      "source": [
        "## Cost Function"
      ],
      "metadata": {
        "id": "DRyGPyZtKnCg"
      }
    },
    {
      "cell_type": "code",
      "source": [
        "def cost_function(x, y, theta):\n",
        "\treturn ((h(x, theta)-y).T@(h(x, theta)-y))/(2*y.shape[0])"
      ],
      "metadata": {
        "id": "O3TSJ0kNKfM6"
      },
      "execution_count": 8,
      "outputs": []
    },
    {
      "cell_type": "markdown",
      "source": [
        "## Gradient Descent"
      ],
      "metadata": {
        "id": "AQxm-_uFKwxl"
      }
    },
    {
      "cell_type": "code",
      "source": [
        "def gradient_descent(x, y, theta, learning_rate=0.1, num_epochs=10):\n",
        "\tm = x.shape[0]\n",
        "\tJ_all = []\n",
        "\t\n",
        "\tfor _ in range(num_epochs):\n",
        "\t\tpredictions = h(x, theta)\n",
        "\t\tcost_ = (1/m)*(x.T@(predictions - y))\n",
        "\t\ttheta = theta - (learning_rate)*cost_\n",
        "\t\tJ_all.append(cost_function(x, y, theta))\n",
        "\n",
        "\treturn theta, J_all "
      ],
      "metadata": {
        "id": "fcTbjBLLKqkx"
      },
      "execution_count": 9,
      "outputs": []
    },
    {
      "cell_type": "markdown",
      "source": [
        "## Plot Cost"
      ],
      "metadata": {
        "id": "25j_WeefMpy9"
      }
    },
    {
      "cell_type": "code",
      "source": [
        "def plot_cost(J_all, num_epochs):\n",
        "\tplt.xlabel('Epochs')\n",
        "\tplt.ylabel('Cost')\n",
        "\tplt.plot(num_epochs, J_all, 'm', linewidth = \"5\")\n",
        "\tplt.show()"
      ],
      "metadata": {
        "id": "5huw19PhLyS-"
      },
      "execution_count": 16,
      "outputs": []
    },
    {
      "cell_type": "markdown",
      "source": [
        "## Test"
      ],
      "metadata": {
        "id": "EQllS-8zMtjQ"
      }
    },
    {
      "cell_type": "code",
      "source": [
        "def test(theta, x):\n",
        "\tx[0] = (x[0] - mu[0])/std[0]\n",
        "\tx[1] = (x[1] - mu[1])/std[1]\n",
        "\n",
        "\ty = theta[0] + theta[1]*x[0] + theta[2]*x[1]\n",
        "\tprint(\"Price of house: \", y)"
      ],
      "metadata": {
        "id": "YV9JkrvHMrGU"
      },
      "execution_count": 17,
      "outputs": []
    }
  ],
  "metadata": {
    "language_info": {
      "name": "python"
    },
    "orig_nbformat": 4,
    "colab": {
      "name": "linear_regression_from_scratch.ipynb",
      "provenance": [],
      "include_colab_link": true
    },
    "kernelspec": {
      "name": "python3",
      "display_name": "Python 3"
    },
    "gpuClass": "standard"
  },
  "nbformat": 4,
  "nbformat_minor": 0
}