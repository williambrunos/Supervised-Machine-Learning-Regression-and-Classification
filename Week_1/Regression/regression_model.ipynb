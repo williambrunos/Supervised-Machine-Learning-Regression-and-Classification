{
  "cells": [
    {
      "cell_type": "markdown",
      "metadata": {
        "id": "view-in-github",
        "colab_type": "text"
      },
      "source": [
        "<a href=\"https://colab.research.google.com/github/williambrunos/Supervised-Machine-Learning-Regression-and-Classification/blob/main/Week_1/Regression/regression_model.ipynb\" target=\"_parent\"><img src=\"https://colab.research.google.com/assets/colab-badge.svg\" alt=\"Open In Colab\"/></a>"
      ]
    },
    {
      "cell_type": "markdown",
      "metadata": {
        "id": "hQ__Kvxvg-4O"
      },
      "source": [
        "# Regression Model\n",
        "\n",
        "## Linear Regression Model\n",
        "\n",
        "The first supervised learning algorithm that is going to be seen is the linear regression model, which tends to fit a straight line into your data.\n",
        "\n",
        "The data set used to train the model is called: training data (input data). The model learns the patterns on the features used to predict the output feature (target) and can gets evaluated with some test data.\n",
        "\n",
        "### Notation:\n",
        "\n",
        "- x = 'input' variable/feature;\n",
        "- y = 'output' variable/target feature;\n",
        "- m = number of training samples;\n",
        "- (x, y) = single training sample;\n",
        "- ($x^{(i)}, y^{(i)}) = i^{th}$ training example;\n",
        "\n",
        "## Feeding the Model\n",
        "\n",
        "- First, the training data set is collected;\n",
        "- Then, this data is given to the learning algorithm;\n",
        "- The model tries to build a function $f$ (hypothesis) that descibes the relationship between the input features and the target value, both in the training data set;\n",
        "- With the function created, if another data x is given to the model, it will try to predict some estimator $\\hat{y}$ for the target value for that data. There is a high possibility that $\\hat{y}$ is not 100% correct, it's because of this that it's called an *estimator*.\n",
        "\n",
        "## How to represent $f$\n",
        "\n",
        "Fow now, the function $f$ is just going to be linear, so it can be written as:\n",
        "\n",
        "$$\\hat{y} = f_{w, b}(X) = wx + b$$\n",
        "\n",
        "The function above tells us that the estimator of the model will depend of the value of w, b and the input data X. The values of w and b are going to be seen later. Supose that X is a unique variable, so the linear regression is called *univariate* linear regression."
      ]
    },
    {
      "cell_type": "code",
      "source": [
        ""
      ],
      "metadata": {
        "id": "yN-AKJ1hlYS4"
      },
      "execution_count": null,
      "outputs": []
    }
  ],
  "metadata": {
    "language_info": {
      "name": "python"
    },
    "orig_nbformat": 4,
    "colab": {
      "name": "regression_model.ipynb",
      "provenance": [],
      "include_colab_link": true
    }
  },
  "nbformat": 4,
  "nbformat_minor": 0
}