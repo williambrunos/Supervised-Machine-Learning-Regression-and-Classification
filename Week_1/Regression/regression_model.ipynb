{
  "cells": [
    {
      "cell_type": "markdown",
      "metadata": {
        "id": "view-in-github",
        "colab_type": "text"
      },
      "source": [
        "<a href=\"https://colab.research.google.com/github/williambrunos/Supervised-Machine-Learning-Regression-and-Classification/blob/main/Week_1/Regression/regression_model.ipynb\" target=\"_parent\"><img src=\"https://colab.research.google.com/assets/colab-badge.svg\" alt=\"Open In Colab\"/></a>"
      ]
    },
    {
      "cell_type": "markdown",
      "metadata": {
        "id": "hQ__Kvxvg-4O"
      },
      "source": [
        "# Regression Model\n",
        "\n",
        "## Linear Regression Model\n",
        "\n",
        "The first supervised learning algorithm that is going to be seen is the linear regression model, which tends to fit a straight line into your data.\n",
        "\n",
        "The data set used to train the model is called: training data (input data). The model learns the patterns on the features used to predict the output feature (target) and can gets evaluated with some test data.\n",
        "\n",
        "### Notation:\n",
        "\n",
        "- x = 'input' variable/feature;\n",
        "- y = 'output' variable/target feature;\n",
        "- m = number of training samples;\n",
        "- (x, y) = single training sample;\n",
        "- ($x^{(i)}, y^{(i)}) = i^{th}$ training example;"
      ]
    },
    {
      "cell_type": "code",
      "source": [
        ""
      ],
      "metadata": {
        "id": "yN-AKJ1hlYS4"
      },
      "execution_count": null,
      "outputs": []
    }
  ],
  "metadata": {
    "language_info": {
      "name": "python"
    },
    "orig_nbformat": 4,
    "colab": {
      "name": "regression_model.ipynb",
      "provenance": [],
      "include_colab_link": true
    }
  },
  "nbformat": 4,
  "nbformat_minor": 0
}